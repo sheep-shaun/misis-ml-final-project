{
 "cells": [
  {
   "cell_type": "markdown",
   "metadata": {},
   "source": [
    "## Preparing environment"
   ]
  },
  {
   "cell_type": "code",
   "execution_count": 1,
   "metadata": {},
   "outputs": [],
   "source": [
    "import os\n",
    "import json\n",
    "import numpy as np\n",
    "import pandas as pd\n",
    "\n",
    "from sklearn.impute import SimpleImputer\n",
    "from sklearn.model_selection import KFold, train_test_split\n",
    "from sklearn.metrics import r2_score\n",
    "from sklearn.inspection import permutation_importance\n",
    "from sklearn.linear_model import LinearRegression\n",
    "from sklearn.ensemble import RandomForestRegressor, ExtraTreesRegressor\n",
    "from sklearn.decomposition import TruncatedSVD\n",
    "from category_encoders.cat_boost import CatBoostEncoder\n",
    "from tqdm import tqdm\n",
    "from catboost import CatBoostRegressor\n",
    "\n",
    "import seaborn as sns\n",
    "import matplotlib.pyplot as plt\n",
    "\n",
    "data_path = \"./data\""
   ]
  },
  {
   "cell_type": "code",
   "execution_count": 2,
   "metadata": {},
   "outputs": [],
   "source": [
    "seed = 42"
   ]
  },
  {
   "cell_type": "markdown",
   "metadata": {},
   "source": [
    "## Data processing"
   ]
  },
  {
   "cell_type": "code",
   "execution_count": 3,
   "metadata": {},
   "outputs": [],
   "source": [
    "# reading data\n",
    "data_dsc = pd.read_csv(os.path.join(data_path, \"data_dsc.csv\"))\n",
    "data_dsc = data_dsc.drop(columns=[\"Unnamed: 0\", \"Unnamed: 0.1\"])\n",
    "data_fp = pd.read_csv(os.path.join(data_path, \"data_fp.csv\"))\n",
    "data_fp = data_fp.drop(columns=[\"Unnamed: 0\", \"Unnamed: 0.1\"])\n",
    "data_2d = pd.read_csv(os.path.join(data_path, \"data_2d.csv\"))\n",
    "data_2d = data_2d.drop(columns=[\"Unnamed: 0\", \"Unnamed: 0.1\"])"
   ]
  },
  {
   "cell_type": "code",
   "execution_count": 4,
   "metadata": {},
   "outputs": [
    {
     "data": {
      "text/plain": [
       "(36377, 2264)"
      ]
     },
     "execution_count": 4,
     "metadata": {},
     "output_type": "execute_result"
    }
   ],
   "source": [
    "# deleting duplicate columns\n",
    "data = pd.concat([data_dsc, data_fp, data_2d], axis=1)\n",
    "data = data.loc[:, ~data.columns.duplicated()].copy()\n",
    "data.shape"
   ]
  },
  {
   "cell_type": "code",
   "execution_count": 5,
   "metadata": {},
   "outputs": [],
   "source": [
    "X = data.drop(columns=[\"IC50\"])\n",
    "y = data[\"IC50\"]"
   ]
  },
  {
   "cell_type": "code",
   "execution_count": 6,
   "metadata": {},
   "outputs": [
    {
     "name": "stderr",
     "output_type": "stream",
     "text": [
      "100%|██████████| 2263/2263 [00:00<00:00, 6970.21it/s]\n"
     ]
    },
    {
     "data": {
      "text/plain": [
       "7"
      ]
     },
     "execution_count": 6,
     "metadata": {},
     "output_type": "execute_result"
    }
   ],
   "source": [
    "# deleting columns with 1 unique value\n",
    "useless_columns = list()\n",
    "\n",
    "for column in tqdm(X.columns):\n",
    "    if X[column].unique().shape[0] == 1:\n",
    "        useless_columns.append(column)\n",
    "\n",
    "X = X.drop(columns=useless_columns)\n",
    "len(useless_columns)"
   ]
  },
  {
   "cell_type": "code",
   "execution_count": 7,
   "metadata": {},
   "outputs": [
    {
     "name": "stdout",
     "output_type": "stream",
     "text": [
      "12\n"
     ]
    }
   ],
   "source": [
    "need_to_fill_columns = list()\n",
    "\n",
    "for column in X.columns:\n",
    "    if X[column].isnull().any():\n",
    "        need_to_fill_columns.append(column)\n",
    "\n",
    "print(len(need_to_fill_columns))"
   ]
  },
  {
   "cell_type": "code",
   "execution_count": 8,
   "metadata": {},
   "outputs": [],
   "source": [
    "# filling nans\n",
    "imputer = SimpleImputer(strategy='mean')\n",
    "X[need_to_fill_columns] = imputer.fit_transform(X[need_to_fill_columns])"
   ]
  },
  {
   "cell_type": "markdown",
   "metadata": {},
   "source": [
    "### Feature engineering"
   ]
  },
  {
   "cell_type": "code",
   "execution_count": 9,
   "metadata": {},
   "outputs": [],
   "source": [
    "X[\"TitleLen\"] = X[\"Title\"].apply(lambda x: len(x))\n",
    "X[\"SMILESLen\"] = X[\"SMILES\"].apply(lambda x: len(x))"
   ]
  },
  {
   "cell_type": "code",
   "execution_count": 10,
   "metadata": {},
   "outputs": [],
   "source": [
    "def get_first_number(s):\n",
    "    number = str()\n",
    "    flag = False\n",
    "    for c in s:\n",
    "        if c.isnumeric():\n",
    "            number += c\n",
    "            flag = True\n",
    "        elif flag:\n",
    "            break\n",
    "    return int(number)\n",
    "\n",
    "def get_first_str(s):\n",
    "    first_str = str()\n",
    "    flag = False\n",
    "    for c in s:\n",
    "        if c.isalpha():\n",
    "            first_str += c\n",
    "            flag = True\n",
    "        elif flag:\n",
    "            break\n",
    "    return first_str"
   ]
  },
  {
   "cell_type": "code",
   "execution_count": 11,
   "metadata": {},
   "outputs": [],
   "source": [
    "X[\"FirstNumTitle\"] = X[\"Title\"].apply(get_first_number)\n",
    "# X[\"FirstStrTitle\"] = X[\"Title\"].apply(get_first_str)"
   ]
  },
  {
   "cell_type": "markdown",
   "metadata": {},
   "source": [
    "### Last preparation"
   ]
  },
  {
   "cell_type": "code",
   "execution_count": 12,
   "metadata": {},
   "outputs": [],
   "source": [
    "text_features = [\"Title\", \"SMILES\"]"
   ]
  },
  {
   "cell_type": "code",
   "execution_count": 13,
   "metadata": {},
   "outputs": [
    {
     "data": {
      "text/plain": [
       "2122"
      ]
     },
     "execution_count": 13,
     "metadata": {},
     "output_type": "execute_result"
    }
   ],
   "source": [
    "cat_features = list()\n",
    "\n",
    "for column, dtype in X.dtypes.to_dict().items():\n",
    "    if column in text_features:\n",
    "        continue\n",
    "    elif dtype == \"object\":\n",
    "        cat_features.append(column)\n",
    "    elif X[column].dtype == int and X[column].unique().shape[0] < 10:\n",
    "        cat_features.append(column)\n",
    "\n",
    "len(cat_features)"
   ]
  },
  {
   "cell_type": "markdown",
   "metadata": {},
   "source": [
    "### Few graphs"
   ]
  },
  {
   "cell_type": "code",
   "execution_count": 14,
   "metadata": {},
   "outputs": [
    {
     "data": {
      "image/png": "[encoded data removed]",
      "text/plain": [
       "<Figure size 500x500 with 1 Axes>"
      ]
     },
     "metadata": {},
     "output_type": "display_data"
    }
   ],
   "source": [
    "sns.displot(y)\n",
    "plt.show()"
   ]
  },
  {
   "cell_type": "code",
   "execution_count": 15,
   "metadata": {},
   "outputs": [
    {
     "data": {
      "image/png": "[encoded data removed]",
      "text/plain": [
       "<Figure size 500x500 with 1 Axes>"
      ]
     },
     "metadata": {},
     "output_type": "display_data"
    }
   ],
   "source": [
    "sns.displot(np.log1p(y))\n",
    "plt.show()"
   ]
  },
  {
   "cell_type": "code",
   "execution_count": 16,
   "metadata": {},
   "outputs": [],
   "source": [
    "# logarithm target\n",
    "y = np.log1p(y)"
   ]
  },
  {
   "cell_type": "markdown",
   "metadata": {},
   "source": [
    "## Models"
   ]
  },
  {
   "cell_type": "markdown",
   "metadata": {},
   "source": [
    "### CatBoost"
   ]
  },
  {
   "cell_type": "code",
   "execution_count": 17,
   "metadata": {},
   "outputs": [],
   "source": [
    "def title_catboost_processing(title):\n",
    "    new_title = str()\n",
    "    for s in title:\n",
    "        if s.isdigit():\n",
    "            new_title += f' {s}'\n",
    "        else:\n",
    "            new_title += s\n",
    "    return new_title"
   ]
  },
  {
   "cell_type": "code",
   "execution_count": 18,
   "metadata": {},
   "outputs": [],
   "source": [
    "X_copy = X.copy()\n",
    "y_copy = y.copy()\n",
    "\n",
    "# Processing text features\n",
    "# Splitting numbers in title by spaces (to create  separate tokens)\n",
    "X_copy[\"Title\"] = X_copy[\"Title\"].apply(title_catboost_processing)\n",
    "X_copy[\"SMILES\"] = X_copy[\"SMILES\"].apply(lambda x: ' '.join(list(x)))\n",
    "\n",
    "X_train, X_val, y_train, y_val = train_test_split(X_copy, y_copy, test_size=0.2, random_state=seed)"
   ]
  },
  {
   "cell_type": "code",
   "execution_count": 19,
   "metadata": {},
   "outputs": [
    {
     "name": "stdout",
     "output_type": "stream",
     "text": [
      "0:\tlearn: 0.0529471\ttest: 0.0529239\tbest: 0.0529239 (0)\ttotal: 86.5ms\tremaining: 2m 9s\n",
      "100:\tlearn: 0.4261791\ttest: 0.3072824\tbest: 0.3073405 (99)\ttotal: 5.12s\tremaining: 1m 10s\n",
      "200:\tlearn: 0.4985548\ttest: 0.3210178\tbest: 0.3211280 (198)\ttotal: 10.2s\tremaining: 1m 6s\n",
      "300:\tlearn: 0.5487301\ttest: 0.3276013\tbest: 0.3278197 (298)\ttotal: 15.5s\tremaining: 1m 1s\n",
      "400:\tlearn: 0.5855055\ttest: 0.3290729\tbest: 0.3290729 (400)\ttotal: 20.7s\tremaining: 56.8s\n",
      "500:\tlearn: 0.6157673\ttest: 0.3322221\tbest: 0.3322221 (500)\ttotal: 26s\tremaining: 51.8s\n",
      "600:\tlearn: 0.6436404\ttest: 0.3299065\tbest: 0.3323205 (506)\ttotal: 31.3s\tremaining: 46.9s\n",
      "700:\tlearn: 0.6659777\ttest: 0.3322740\tbest: 0.3326228 (683)\ttotal: 36.8s\tremaining: 41.9s\n",
      "800:\tlearn: 0.6893619\ttest: 0.3311811\tbest: 0.3326228 (683)\ttotal: 42.3s\tremaining: 36.9s\n",
      "900:\tlearn: 0.7109825\ttest: 0.3320474\tbest: 0.3326228 (683)\ttotal: 47.8s\tremaining: 31.8s\n",
      "1000:\tlearn: 0.7292631\ttest: 0.3323854\tbest: 0.3328780 (957)\ttotal: 53.4s\tremaining: 26.6s\n",
      "1100:\tlearn: 0.7478877\ttest: 0.3319567\tbest: 0.3328780 (957)\ttotal: 59s\tremaining: 21.4s\n",
      "1200:\tlearn: 0.7645366\ttest: 0.3314692\tbest: 0.3328780 (957)\ttotal: 1m 4s\tremaining: 16.1s\n",
      "Stopped by overfitting detector  (300 iterations wait)\n",
      "\n",
      "bestTest = 0.3328780252\n",
      "bestIteration = 957\n",
      "\n",
      "Shrink model to first 958 iterations.\n",
      "R2: 0.12657950777752613\n"
     ]
    }
   ],
   "source": [
    "cb_model = CatBoostRegressor(\n",
    "    iterations=1500,\n",
    "    text_features=text_features,\n",
    "    cat_features=cat_features,\n",
    "    eval_metric=\"R2\",\n",
    "    learning_rate=0.18,\n",
    "    verbose=100,\n",
    "    use_best_model=True,\n",
    "    early_stopping_rounds=300,\n",
    ")\n",
    "\n",
    "cb_model.fit(X_train, y_train, eval_set=(X_val, y_val))\n",
    "\n",
    "preds = cb_model.predict(X_val)\n",
    "\n",
    "print(f\"R2: {r2_score(np.expm1(y_val), np.expm1(preds))}\")"
   ]
  },
  {
   "cell_type": "markdown",
   "metadata": {},
   "source": [
    "0.12657950777752613"
   ]
  },
  {
   "cell_type": "markdown",
   "metadata": {},
   "source": [
    "### CatBoost permutation importance"
   ]
  },
  {
   "cell_type": "code",
   "execution_count": 20,
   "metadata": {},
   "outputs": [],
   "source": [
    "cb_importances_name = \"cb_importances.json\"\n",
    "\n",
    "if not os.path.isfile(cb_importances_name):\n",
    "\n",
    "    importance = permutation_importance(cb_model, X_val, y_val, scoring=\"r2\", n_repeats=5, random_state=seed, n_jobs=-1)\n",
    "    for k, v in importance.items():\n",
    "        importance[k] = v.tolist()\n",
    "\n",
    "    with open(cb_importances_name, \"w\") as fp:\n",
    "        json.dump(importance, fp=fp)"
   ]
  },
  {
   "cell_type": "code",
   "execution_count": 21,
   "metadata": {},
   "outputs": [],
   "source": [
    "with open(cb_importances_name, \"r\") as fp:\n",
    "    importance = json.load(fp)"
   ]
  },
  {
   "cell_type": "code",
   "execution_count": 22,
   "metadata": {},
   "outputs": [
    {
     "name": "stdout",
     "output_type": "stream",
     "text": [
      "44\n"
     ]
    }
   ],
   "source": [
    "stay_cb_importance_columns = list()\n",
    "drop_cb_importance_columns = list()\n",
    "\n",
    "threshold = 1e-3\n",
    "\n",
    "for i, v in enumerate(importance[\"importances_mean\"]):\n",
    "    if v > threshold:\n",
    "        stay_cb_importance_columns.append(X_val.columns[i])\n",
    "    else:\n",
    "        drop_cb_importance_columns.append(X_val.columns[i])\n",
    "\n",
    "print(len(stay_cb_importance_columns))"
   ]
  },
  {
   "cell_type": "code",
   "execution_count": 23,
   "metadata": {},
   "outputs": [
    {
     "data": {
      "image/png": "[encoded data removed]",
      "text/plain": [
       "<Figure size 500x1100 with 1 Axes>"
      ]
     },
     "metadata": {},
     "output_type": "display_data"
    }
   ],
   "source": [
    "barh_dict = dict()\n",
    "\n",
    "for i, v in enumerate(importance[\"importances_mean\"]):\n",
    "    if v > threshold:\n",
    "        # print(f'Feature: {X_val.columns[i]}, Score: {v:.5f}')\n",
    "        barh_dict[X_val.columns[i]] = v\n",
    "\n",
    "barh_dict = {k: v for k, v in sorted(barh_dict.items(), key=lambda item: item[1])}\n",
    "\n",
    "plt.figure(figsize=(5, 11))\n",
    "plt.barh(barh_dict.keys(), barh_dict.values())\n",
    "plt.yticks(fontsize=7)\n",
    "plt.xlabel('Permutation Importance')\n",
    "plt.show()"
   ]
  },
  {
   "cell_type": "markdown",
   "metadata": {},
   "source": [
    "### CatBoost with PI"
   ]
  },
  {
   "cell_type": "code",
   "execution_count": 24,
   "metadata": {},
   "outputs": [],
   "source": [
    "X_copy = X.copy()\n",
    "y_copy = y.copy()\n",
    "X_copy = X_copy[stay_cb_importance_columns]\n",
    "X_copy[\"Title\"] = X_copy[\"Title\"].apply(title_catboost_processing)\n",
    "X_copy[\"SMILES\"] = X_copy[\"SMILES\"].apply(lambda x: ' '.join(list(x)))\n",
    "\n",
    "X_train, X_val, y_train, y_val = train_test_split(X_copy, y_copy, test_size=0.2, random_state=seed)"
   ]
  },
  {
   "cell_type": "code",
   "execution_count": 25,
   "metadata": {},
   "outputs": [
    {
     "name": "stdout",
     "output_type": "stream",
     "text": [
      "0:\tlearn: 0.0656065\ttest: 0.0679731\tbest: 0.0679731 (0)\ttotal: 5.67ms\tremaining: 8.5s\n",
      "100:\tlearn: 0.4263388\ttest: 0.3160007\tbest: 0.3161251 (99)\ttotal: 614ms\tremaining: 8.51s\n",
      "200:\tlearn: 0.4897471\ttest: 0.3244925\tbest: 0.3250260 (187)\ttotal: 1.22s\tremaining: 7.91s\n",
      "300:\tlearn: 0.5371519\ttest: 0.3244191\tbest: 0.3250260 (187)\ttotal: 1.83s\tremaining: 7.31s\n",
      "400:\tlearn: 0.5735273\ttest: 0.3256627\tbest: 0.3259908 (391)\ttotal: 2.44s\tremaining: 6.7s\n",
      "500:\tlearn: 0.6062778\ttest: 0.3256159\tbest: 0.3260126 (407)\ttotal: 3.07s\tremaining: 6.13s\n",
      "600:\tlearn: 0.6350152\ttest: 0.3263161\tbest: 0.3267334 (593)\ttotal: 3.69s\tremaining: 5.53s\n",
      "700:\tlearn: 0.6622822\ttest: 0.3246734\tbest: 0.3268579 (634)\ttotal: 4.32s\tremaining: 4.92s\n",
      "800:\tlearn: 0.6866214\ttest: 0.3239990\tbest: 0.3268579 (634)\ttotal: 4.94s\tremaining: 4.31s\n",
      "900:\tlearn: 0.7092150\ttest: 0.3222624\tbest: 0.3268579 (634)\ttotal: 5.55s\tremaining: 3.69s\n",
      "1000:\tlearn: 0.7279791\ttest: 0.3205037\tbest: 0.3268579 (634)\ttotal: 6.17s\tremaining: 3.08s\n",
      "1100:\tlearn: 0.7465281\ttest: 0.3194571\tbest: 0.3268579 (634)\ttotal: 6.8s\tremaining: 2.46s\n",
      "1200:\tlearn: 0.7627762\ttest: 0.3178475\tbest: 0.3268579 (634)\ttotal: 7.41s\tremaining: 1.84s\n",
      "Stopped by overfitting detector  (600 iterations wait)\n",
      "\n",
      "bestTest = 0.3268578841\n",
      "bestIteration = 634\n",
      "\n",
      "Shrink model to first 635 iterations.\n",
      "R2: 0.1331607758006419\n"
     ]
    }
   ],
   "source": [
    "cb_model = CatBoostRegressor(\n",
    "    iterations=1500,\n",
    "    text_features=[feature for feature in text_features if feature not in drop_cb_importance_columns],\n",
    "    cat_features=[feature for feature in cat_features if feature not in drop_cb_importance_columns],\n",
    "    eval_metric=\"R2\",\n",
    "    learning_rate=0.2,\n",
    "    verbose=100,\n",
    "    use_best_model=True,\n",
    "    early_stopping_rounds=600,\n",
    ")\n",
    "\n",
    "cb_model.fit(X_train, y_train, eval_set=(X_val, y_val))\n",
    "\n",
    "preds = cb_model.predict(X_val)\n",
    "\n",
    "print(f\"R2: {r2_score(np.expm1(y_val), np.expm1(preds))}\")"
   ]
  },
  {
   "cell_type": "markdown",
   "metadata": {},
   "source": [
    "0.1331607758006419"
   ]
  },
  {
   "cell_type": "markdown",
   "metadata": {},
   "source": [
    "### CatBoost with PI & SVD"
   ]
  },
  {
   "cell_type": "code",
   "execution_count": 26,
   "metadata": {},
   "outputs": [],
   "source": [
    "X_copy = X.copy()\n",
    "y_copy = y.copy()\n",
    "X_copy[\"Title\"] = X_copy[\"Title\"].apply(title_catboost_processing)\n",
    "X_copy[\"SMILES\"] = X_copy[\"SMILES\"].apply(lambda x: ' '.join(list(x)))\n",
    "\n",
    "X_train, X_val, y_train, y_val = train_test_split(X_copy, y_copy, test_size=0.2, random_state=seed)"
   ]
  },
  {
   "cell_type": "code",
   "execution_count": 27,
   "metadata": {},
   "outputs": [],
   "source": [
    "svd_n_components = 16\n",
    "svd = TruncatedSVD(n_components=svd_n_components, algorithm=\"randomized\", random_state=seed)\n",
    "svd.fit(X_train[drop_cb_importance_columns])\n",
    "\n",
    "train_emb = pd.DataFrame(svd.transform(X_train[drop_cb_importance_columns]), columns=[f\"emb_{i}\"for i in range(svd_n_components)], index=X_train.index)\n",
    "X_train = pd.concat([X_train[stay_cb_importance_columns], train_emb], axis=1)\n",
    "\n",
    "val_emb = pd.DataFrame(svd.transform(X_val[drop_cb_importance_columns]), columns=[f\"emb_{i}\"for i in range(svd_n_components)], index=X_val.index)\n",
    "X_val = pd.concat([X_val[stay_cb_importance_columns], val_emb], axis=1)"
   ]
  },
  {
   "cell_type": "code",
   "execution_count": 28,
   "metadata": {},
   "outputs": [
    {
     "name": "stdout",
     "output_type": "stream",
     "text": [
      "0:\tlearn: 0.0392860\ttest: 0.0390780\tbest: 0.0390780 (0)\ttotal: 5.17ms\tremaining: 10.3s\n",
      "100:\tlearn: 0.3887793\ttest: 0.3085388\tbest: 0.3085388 (100)\ttotal: 666ms\tremaining: 12.5s\n",
      "200:\tlearn: 0.4511796\ttest: 0.3233923\tbest: 0.3233923 (200)\ttotal: 1.32s\tremaining: 11.8s\n",
      "300:\tlearn: 0.4939177\ttest: 0.3275925\tbest: 0.3279311 (272)\ttotal: 1.98s\tremaining: 11.2s\n",
      "400:\tlearn: 0.5287999\ttest: 0.3306824\tbest: 0.3306824 (400)\ttotal: 2.65s\tremaining: 10.6s\n",
      "500:\tlearn: 0.5580316\ttest: 0.3301905\tbest: 0.3311565 (437)\ttotal: 3.34s\tremaining: 10s\n",
      "600:\tlearn: 0.5856102\ttest: 0.3309486\tbest: 0.3313147 (580)\ttotal: 4.03s\tremaining: 9.38s\n",
      "700:\tlearn: 0.6086952\ttest: 0.3315550\tbest: 0.3316859 (693)\ttotal: 4.7s\tremaining: 8.71s\n",
      "800:\tlearn: 0.6309925\ttest: 0.3316327\tbest: 0.3322108 (748)\ttotal: 5.38s\tremaining: 8.06s\n",
      "900:\tlearn: 0.6516834\ttest: 0.3330562\tbest: 0.3335060 (894)\ttotal: 6.07s\tremaining: 7.4s\n",
      "1000:\tlearn: 0.6716826\ttest: 0.3332213\tbest: 0.3336196 (956)\ttotal: 6.78s\tremaining: 6.76s\n",
      "1100:\tlearn: 0.6894593\ttest: 0.3331505\tbest: 0.3336196 (956)\ttotal: 7.46s\tremaining: 6.09s\n",
      "1200:\tlearn: 0.7061619\ttest: 0.3332878\tbest: 0.3336565 (1186)\ttotal: 8.15s\tremaining: 5.42s\n",
      "1300:\tlearn: 0.7203427\ttest: 0.3327684\tbest: 0.3336565 (1186)\ttotal: 8.82s\tremaining: 4.74s\n",
      "1400:\tlearn: 0.7339920\ttest: 0.3324350\tbest: 0.3336565 (1186)\ttotal: 9.5s\tremaining: 4.06s\n",
      "1500:\tlearn: 0.7463716\ttest: 0.3320871\tbest: 0.3336565 (1186)\ttotal: 10.2s\tremaining: 3.39s\n",
      "1600:\tlearn: 0.7595656\ttest: 0.3312599\tbest: 0.3336565 (1186)\ttotal: 10.9s\tremaining: 2.71s\n",
      "1700:\tlearn: 0.7721005\ttest: 0.3303104\tbest: 0.3336565 (1186)\ttotal: 11.6s\tremaining: 2.04s\n",
      "Stopped by overfitting detector  (600 iterations wait)\n",
      "\n",
      "bestTest = 0.3336564997\n",
      "bestIteration = 1186\n",
      "\n",
      "Shrink model to first 1187 iterations.\n",
      "R2: 0.13430790291159544\n"
     ]
    }
   ],
   "source": [
    "cb_model = CatBoostRegressor(\n",
    "    iterations=2000,\n",
    "    text_features=[feature for feature in text_features if feature not in drop_cb_importance_columns],\n",
    "    cat_features=[feature for feature in cat_features if feature not in drop_cb_importance_columns],\n",
    "    eval_metric=\"R2\",\n",
    "    learning_rate=0.12,\n",
    "    verbose=100,\n",
    "    use_best_model=True,\n",
    "    early_stopping_rounds=600,\n",
    ")\n",
    "\n",
    "cb_model.fit(X_train, y_train, eval_set=(X_val, y_val))\n",
    "\n",
    "preds = cb_model.predict(X_val)\n",
    "\n",
    "print(f\"R2: {r2_score(np.expm1(y_val), np.expm1(preds))}\")"
   ]
  },
  {
   "cell_type": "markdown",
   "metadata": {},
   "source": [
    "0.13430790291159544 0.12 16"
   ]
  },
  {
   "cell_type": "markdown",
   "metadata": {},
   "source": [
    "### LinearRegression"
   ]
  },
  {
   "cell_type": "code",
   "execution_count": 29,
   "metadata": {},
   "outputs": [],
   "source": [
    "X_copy = X.copy()\n",
    "y_copy = y.copy()\n",
    "\n",
    "X_copy = X_copy.drop(columns=text_features)\n",
    "X_copy[cat_features] = X_copy[cat_features].astype(str)\n",
    "\n",
    "X_train, X_val, y_train, y_val = train_test_split(X_copy, y_copy, test_size=0.2, random_state=seed)\n",
    "\n",
    "cb_encoder = CatBoostEncoder(random_state=seed)\n",
    "X_train[cat_features] = cb_encoder.fit_transform(X_train[cat_features], y_train)\n",
    "X_val[cat_features] = cb_encoder.transform(X_val[cat_features])"
   ]
  },
  {
   "cell_type": "code",
   "execution_count": 30,
   "metadata": {},
   "outputs": [
    {
     "name": "stdout",
     "output_type": "stream",
     "text": [
      "R2: -0.00736758865185605\n"
     ]
    }
   ],
   "source": [
    "linreg_model = LinearRegression(n_jobs=-1)\n",
    "linreg_model.fit(X_train, y_train)\n",
    "\n",
    "preds = linreg_model.predict(X_val)\n",
    "\n",
    "print(f\"R2: {r2_score(np.expm1(y_val), np.expm1(preds))}\")"
   ]
  },
  {
   "cell_type": "markdown",
   "metadata": {},
   "source": [
    "### LinearRegression with PI"
   ]
  },
  {
   "cell_type": "code",
   "execution_count": 31,
   "metadata": {},
   "outputs": [],
   "source": [
    "X_train, X_val, y_train, y_val = train_test_split(X_copy.drop(columns=drop_cb_importance_columns), y_copy, test_size=0.2, random_state=seed)"
   ]
  },
  {
   "cell_type": "code",
   "execution_count": 32,
   "metadata": {},
   "outputs": [
    {
     "name": "stdout",
     "output_type": "stream",
     "text": [
      "R2: -0.00736758865185605\n"
     ]
    }
   ],
   "source": [
    "linreg_model = LinearRegression(n_jobs=-1)\n",
    "linreg_model.fit(X_train, y_train)\n",
    "\n",
    "preds = linreg_model.predict(X_val)\n",
    "\n",
    "print(f\"R2: {r2_score(np.expm1(y_val), np.expm1(preds))}\")"
   ]
  },
  {
   "cell_type": "markdown",
   "metadata": {},
   "source": [
    "### RandomForest"
   ]
  },
  {
   "cell_type": "code",
   "execution_count": 33,
   "metadata": {},
   "outputs": [],
   "source": [
    "X_train, X_val, y_train, y_val = train_test_split(X_copy, y_copy, test_size=0.2, random_state=seed)"
   ]
  },
  {
   "cell_type": "code",
   "execution_count": 34,
   "metadata": {},
   "outputs": [
    {
     "name": "stdout",
     "output_type": "stream",
     "text": [
      "R2: 0.11005864108076746\n"
     ]
    }
   ],
   "source": [
    "rf_model = RandomForestRegressor(n_estimators=96, random_state=seed, n_jobs=-1)\n",
    "\n",
    "rf_model.fit(X_train, y_train)\n",
    "\n",
    "preds = rf_model.predict(X_val)\n",
    "\n",
    "print(f\"R2: {r2_score(np.expm1(y_val), np.expm1(preds))}\")"
   ]
  },
  {
   "cell_type": "markdown",
   "metadata": {},
   "source": [
    "### RandomForest with PI"
   ]
  },
  {
   "cell_type": "code",
   "execution_count": 35,
   "metadata": {},
   "outputs": [],
   "source": [
    "X_train, X_val, y_train, y_val = train_test_split(X_copy.drop(columns=drop_cb_importance_columns), y_copy, test_size=0.2, random_state=seed)"
   ]
  },
  {
   "cell_type": "code",
   "execution_count": 36,
   "metadata": {},
   "outputs": [
    {
     "name": "stdout",
     "output_type": "stream",
     "text": [
      "R2: 0.10629531525067104\n"
     ]
    }
   ],
   "source": [
    "rf_model = RandomForestRegressor(n_estimators=96, random_state=seed, n_jobs=-1)\n",
    "\n",
    "rf_model.fit(X_train, y_train)\n",
    "\n",
    "preds = rf_model.predict(X_val)\n",
    "\n",
    "print(f\"R2: {r2_score(np.expm1(y_val), np.expm1(preds))}\")"
   ]
  },
  {
   "cell_type": "markdown",
   "metadata": {},
   "source": [
    "### ExtraTreesRegressor"
   ]
  },
  {
   "cell_type": "code",
   "execution_count": 37,
   "metadata": {},
   "outputs": [],
   "source": [
    "X_train, X_val, y_train, y_val = train_test_split(X_copy, y_copy, test_size=0.2, random_state=seed)"
   ]
  },
  {
   "cell_type": "code",
   "execution_count": 38,
   "metadata": {},
   "outputs": [
    {
     "name": "stdout",
     "output_type": "stream",
     "text": [
      "R2: 0.09781962070036554\n"
     ]
    }
   ],
   "source": [
    "et_model = ExtraTreesRegressor(n_estimators=48, random_state=seed, n_jobs=-1)\n",
    "\n",
    "et_model.fit(X_train, y_train)\n",
    "\n",
    "preds = et_model.predict(X_val)\n",
    "\n",
    "print(f\"R2: {r2_score(np.expm1(y_val), np.expm1(preds))}\")"
   ]
  },
  {
   "cell_type": "markdown",
   "metadata": {},
   "source": [
    "### ExtraTreesRegressor with PI"
   ]
  },
  {
   "cell_type": "code",
   "execution_count": 39,
   "metadata": {},
   "outputs": [],
   "source": [
    "X_train, X_val, y_train, y_val = train_test_split(X_copy.drop(columns=drop_cb_importance_columns), y_copy, test_size=0.2, random_state=seed)"
   ]
  },
  {
   "cell_type": "code",
   "execution_count": 40,
   "metadata": {},
   "outputs": [
    {
     "name": "stdout",
     "output_type": "stream",
     "text": [
      "R2: 0.0925587919928822\n"
     ]
    }
   ],
   "source": [
    "et_model = ExtraTreesRegressor(n_estimators=48, random_state=seed, n_jobs=-1)\n",
    "\n",
    "et_model.fit(X_train, y_train)\n",
    "\n",
    "preds = et_model.predict(X_val)\n",
    "\n",
    "print(f\"R2: {r2_score(np.expm1(y_val), np.expm1(preds))}\")"
   ]
  },
  {
   "cell_type": "code",
   "execution_count": null,
   "metadata": {},
   "outputs": [],
   "source": []
  }
 ],
 "metadata": {
  "kernelspec": {
   "display_name": ".venv",
   "language": "python",
   "name": "python3"
  },
  "language_info": {
   "codemirror_mode": {
    "name": "ipython",
    "version": 3
   },
   "file_extension": ".py",
   "mimetype": "text/x-python",
   "name": "python",
   "nbconvert_exporter": "python",
   "pygments_lexer": "ipython3",
   "version": "3.11.4"
  }
 },
 "nbformat": 4,
 "nbformat_minor": 2
}
