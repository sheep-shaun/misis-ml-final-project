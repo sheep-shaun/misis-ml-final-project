{
 "cells": [
  {
   "cell_type": "markdown",
   "metadata": {},
   "source": [
    "## Preparing environment"
   ]
  },
  {
   "cell_type": "code",
   "execution_count": 1,
   "metadata": {},
   "outputs": [],
   "source": [
    "import os\n",
    "import json\n",
    "import numpy as np\n",
    "import pandas as pd\n",
    "\n",
    "from sklearn.impute import SimpleImputer\n",
    "from sklearn.model_selection import train_test_split\n",
    "from sklearn.metrics import r2_score\n",
    "from sklearn.inspection import permutation_importance\n",
    "from sklearn.linear_model import LinearRegression\n",
    "from sklearn.ensemble import RandomForestRegressor, ExtraTreesRegressor\n",
    "from sklearn.decomposition import TruncatedSVD\n",
    "from sklearn.neural_network import MLPRegressor\n",
    "from category_encoders.cat_boost import CatBoostEncoder\n",
    "from tqdm import tqdm\n",
    "from catboost import CatBoostRegressor\n",
    "\n",
    "import torch\n",
    "import torch.nn as nn\n",
    "from torch.utils.data import DataLoader\n",
    "\n",
    "import seaborn as sns\n",
    "import matplotlib.pyplot as plt\n",
    "\n",
    "data_path = \"./data\""
   ]
  },
  {
   "cell_type": "code",
   "execution_count": 2,
   "metadata": {},
   "outputs": [],
   "source": [
    "seed = 42\n",
    "\n",
    "np.random.seed(seed)"
   ]
  },
  {
   "cell_type": "markdown",
   "metadata": {},
   "source": [
    "## Data processing"
   ]
  },
  {
   "cell_type": "code",
   "execution_count": 3,
   "metadata": {},
   "outputs": [],
   "source": [
    "# reading data\n",
    "data_dsc = pd.read_csv(os.path.join(data_path, \"data_dsc.csv\"))\n",
    "data_dsc = data_dsc.drop(columns=[\"Unnamed: 0\", \"Unnamed: 0.1\"])\n",
    "data_fp = pd.read_csv(os.path.join(data_path, \"data_fp.csv\"))\n",
    "data_fp = data_fp.drop(columns=[\"Unnamed: 0\", \"Unnamed: 0.1\"])\n",
    "data_2d = pd.read_csv(os.path.join(data_path, \"data_2d.csv\"))\n",
    "data_2d = data_2d.drop(columns=[\"Unnamed: 0\", \"Unnamed: 0.1\"])"
   ]
  },
  {
   "cell_type": "code",
   "execution_count": 4,
   "metadata": {},
   "outputs": [
    {
     "data": {
      "text/plain": [
       "(36377, 2264)"
      ]
     },
     "execution_count": 4,
     "metadata": {},
     "output_type": "execute_result"
    }
   ],
   "source": [
    "# deleting duplicate columns\n",
    "data = pd.concat([data_dsc, data_fp, data_2d], axis=1)\n",
    "data = data.loc[:, ~data.columns.duplicated()].copy()\n",
    "data.shape"
   ]
  },
  {
   "cell_type": "code",
   "execution_count": 5,
   "metadata": {},
   "outputs": [],
   "source": [
    "X = data.drop(columns=[\"IC50\"])\n",
    "y = data[\"IC50\"]"
   ]
  },
  {
   "cell_type": "code",
   "execution_count": 6,
   "metadata": {},
   "outputs": [
    {
     "name": "stderr",
     "output_type": "stream",
     "text": [
      "100%|██████████| 2263/2263 [00:00<00:00, 7307.57it/s]\n"
     ]
    },
    {
     "data": {
      "text/plain": [
       "7"
      ]
     },
     "execution_count": 6,
     "metadata": {},
     "output_type": "execute_result"
    }
   ],
   "source": [
    "# deleting columns with 1 unique value\n",
    "useless_columns = list()\n",
    "\n",
    "for column in tqdm(X.columns):\n",
    "    if X[column].unique().shape[0] == 1:\n",
    "        useless_columns.append(column)\n",
    "\n",
    "X = X.drop(columns=useless_columns)\n",
    "len(useless_columns)"
   ]
  },
  {
   "cell_type": "code",
   "execution_count": 7,
   "metadata": {},
   "outputs": [
    {
     "name": "stdout",
     "output_type": "stream",
     "text": [
      "12\n"
     ]
    }
   ],
   "source": [
    "need_to_fill_columns = list()\n",
    "\n",
    "for column in X.columns:\n",
    "    if X[column].isnull().any():\n",
    "        need_to_fill_columns.append(column)\n",
    "\n",
    "print(len(need_to_fill_columns))"
   ]
  },
  {
   "cell_type": "code",
   "execution_count": 8,
   "metadata": {},
   "outputs": [],
   "source": [
    "# filling nans\n",
    "imputer = SimpleImputer(strategy='mean')\n",
    "X[need_to_fill_columns] = imputer.fit_transform(X[need_to_fill_columns])"
   ]
  },
  {
   "cell_type": "markdown",
   "metadata": {},
   "source": [
    "### Feature engineering"
   ]
  },
  {
   "cell_type": "code",
   "execution_count": 9,
   "metadata": {},
   "outputs": [],
   "source": [
    "X[\"TitleLen\"] = X[\"Title\"].apply(lambda x: len(x))\n",
    "X[\"SMILESLen\"] = X[\"SMILES\"].apply(lambda x: len(x))"
   ]
  },
  {
   "cell_type": "code",
   "execution_count": 10,
   "metadata": {},
   "outputs": [],
   "source": [
    "def get_first_number(s):\n",
    "    number = str()\n",
    "    flag = False\n",
    "    for c in s:\n",
    "        if c.isnumeric():\n",
    "            number += c\n",
    "            flag = True\n",
    "        elif flag:\n",
    "            break\n",
    "    return int(number)\n",
    "\n",
    "def get_first_str(s):\n",
    "    first_str = str()\n",
    "    flag = False\n",
    "    for c in s:\n",
    "        if c.isalpha():\n",
    "            first_str += c\n",
    "            flag = True\n",
    "        elif flag:\n",
    "            break\n",
    "    return first_str"
   ]
  },
  {
   "cell_type": "code",
   "execution_count": 11,
   "metadata": {},
   "outputs": [],
   "source": [
    "X[\"FirstNumTitle\"] = X[\"Title\"].apply(get_first_number)\n",
    "# X[\"FirstStrTitle\"] = X[\"Title\"].apply(get_first_str)"
   ]
  },
  {
   "cell_type": "markdown",
   "metadata": {},
   "source": [
    "### Last preparation"
   ]
  },
  {
   "cell_type": "code",
   "execution_count": 12,
   "metadata": {},
   "outputs": [],
   "source": [
    "text_features = [\"Title\", \"SMILES\"]"
   ]
  },
  {
   "cell_type": "code",
   "execution_count": 13,
   "metadata": {},
   "outputs": [
    {
     "data": {
      "text/plain": [
       "2122"
      ]
     },
     "execution_count": 13,
     "metadata": {},
     "output_type": "execute_result"
    }
   ],
   "source": [
    "cat_features = list()\n",
    "\n",
    "for column, dtype in X.dtypes.to_dict().items():\n",
    "    if column in text_features:\n",
    "        continue\n",
    "    elif dtype == \"object\":\n",
    "        cat_features.append(column)\n",
    "    elif X[column].dtype == int and X[column].unique().shape[0] < 10:\n",
    "        cat_features.append(column)\n",
    "\n",
    "len(cat_features)"
   ]
  },
  {
   "cell_type": "markdown",
   "metadata": {},
   "source": [
    "### Few graphs"
   ]
  },
  {
   "cell_type": "code",
   "execution_count": 14,
   "metadata": {},
   "outputs": [
    {
     "data": {
      "image/png": "[encoded data removed]",
      "text/plain": [
       "<Figure size 500x500 with 1 Axes>"
      ]
     },
     "metadata": {},
     "output_type": "display_data"
    }
   ],
   "source": [
    "sns.displot(y)\n",
    "plt.show()"
   ]
  },
  {
   "cell_type": "code",
   "execution_count": 15,
   "metadata": {},
   "outputs": [
    {
     "data": {
      "image/png": "[encoded data removed]",
      "text/plain": [
       "<Figure size 500x500 with 1 Axes>"
      ]
     },
     "metadata": {},
     "output_type": "display_data"
    }
   ],
   "source": [
    "sns.displot(np.log1p(y))\n",
    "plt.show()"
   ]
  },
  {
   "cell_type": "code",
   "execution_count": 16,
   "metadata": {},
   "outputs": [],
   "source": [
    "# logarithm target\n",
    "y = np.log1p(y)"
   ]
  },
  {
   "cell_type": "markdown",
   "metadata": {},
   "source": [
    "## Models"
   ]
  },
  {
   "cell_type": "markdown",
   "metadata": {},
   "source": [
    "### CatBoost"
   ]
  },
  {
   "cell_type": "code",
   "execution_count": 17,
   "metadata": {},
   "outputs": [],
   "source": [
    "def title_catboost_processing(title):\n",
    "    new_title = str()\n",
    "    for s in title:\n",
    "        if s.isdigit():\n",
    "            new_title += f' {s}'\n",
    "        else:\n",
    "            new_title += s\n",
    "    return new_title"
   ]
  },
  {
   "cell_type": "code",
   "execution_count": 18,
   "metadata": {},
   "outputs": [],
   "source": [
    "X_copy = X.copy()\n",
    "y_copy = y.copy()\n",
    "\n",
    "# Processing text features\n",
    "# Splitting numbers in title by spaces (to create  separate tokens)\n",
    "X_copy[\"Title\"] = X_copy[\"Title\"].apply(title_catboost_processing)\n",
    "X_copy[\"SMILES\"] = X_copy[\"SMILES\"].apply(lambda x: ' '.join(list(x)))\n",
    "\n",
    "X_train, X_val, y_train, y_val = train_test_split(X_copy, y_copy, test_size=0.2, random_state=seed)"
   ]
  },
  {
   "cell_type": "code",
   "execution_count": 19,
   "metadata": {},
   "outputs": [
    {
     "name": "stdout",
     "output_type": "stream",
     "text": [
      "0:\tlearn: 0.0529471\ttest: 0.0529239\tbest: 0.0529239 (0)\ttotal: 89.6ms\tremaining: 2m 14s\n",
      "100:\tlearn: 0.4261791\ttest: 0.3072824\tbest: 0.3073405 (99)\ttotal: 5.51s\tremaining: 1m 16s\n",
      "200:\tlearn: 0.4985548\ttest: 0.3210178\tbest: 0.3211280 (198)\ttotal: 10.8s\tremaining: 1m 10s\n",
      "300:\tlearn: 0.5487301\ttest: 0.3276013\tbest: 0.3278197 (298)\ttotal: 16.4s\tremaining: 1m 5s\n",
      "400:\tlearn: 0.5855055\ttest: 0.3290729\tbest: 0.3290729 (400)\ttotal: 22s\tremaining: 1m\n",
      "500:\tlearn: 0.6157673\ttest: 0.3322221\tbest: 0.3322221 (500)\ttotal: 27.5s\tremaining: 54.8s\n",
      "600:\tlearn: 0.6436404\ttest: 0.3299065\tbest: 0.3323205 (506)\ttotal: 33.1s\tremaining: 49.5s\n",
      "700:\tlearn: 0.6659777\ttest: 0.3322740\tbest: 0.3326228 (683)\ttotal: 38.6s\tremaining: 44s\n",
      "800:\tlearn: 0.6893619\ttest: 0.3311811\tbest: 0.3326228 (683)\ttotal: 44.2s\tremaining: 38.5s\n",
      "900:\tlearn: 0.7109825\ttest: 0.3320474\tbest: 0.3326228 (683)\ttotal: 49.8s\tremaining: 33.1s\n",
      "1000:\tlearn: 0.7292631\ttest: 0.3323854\tbest: 0.3328780 (957)\ttotal: 55.4s\tremaining: 27.6s\n",
      "1100:\tlearn: 0.7478877\ttest: 0.3319567\tbest: 0.3328780 (957)\ttotal: 1m 1s\tremaining: 22.2s\n",
      "1200:\tlearn: 0.7645366\ttest: 0.3314692\tbest: 0.3328780 (957)\ttotal: 1m 6s\tremaining: 16.6s\n",
      "Stopped by overfitting detector  (300 iterations wait)\n",
      "\n",
      "bestTest = 0.3328780252\n",
      "bestIteration = 957\n",
      "\n",
      "Shrink model to first 958 iterations.\n",
      "R2: 0.12657950777752613\n"
     ]
    }
   ],
   "source": [
    "cb_model = CatBoostRegressor(\n",
    "    iterations=1500,\n",
    "    text_features=text_features,\n",
    "    cat_features=cat_features,\n",
    "    eval_metric=\"R2\",\n",
    "    learning_rate=0.18,\n",
    "    verbose=100,\n",
    "    use_best_model=True,\n",
    "    early_stopping_rounds=300,\n",
    ")\n",
    "\n",
    "cb_model.fit(X_train, y_train, eval_set=(X_val, y_val))\n",
    "\n",
    "preds = cb_model.predict(X_val)\n",
    "\n",
    "print(f\"R2: {r2_score(np.expm1(y_val), np.expm1(preds))}\")"
   ]
  },
  {
   "cell_type": "markdown",
   "metadata": {},
   "source": [
    "0.12657950777752613"
   ]
  },
  {
   "cell_type": "markdown",
   "metadata": {},
   "source": [
    "### CatBoost permutation importance"
   ]
  },
  {
   "cell_type": "code",
   "execution_count": 20,
   "metadata": {},
   "outputs": [],
   "source": [
    "cb_importances_name = \"cb_importances.json\"\n",
    "\n",
    "if not os.path.isfile(cb_importances_name):\n",
    "\n",
    "    importance = permutation_importance(cb_model, X_val, y_val, scoring=\"r2\", n_repeats=5, random_state=seed, n_jobs=-1)\n",
    "    for k, v in importance.items():\n",
    "        importance[k] = v.tolist()\n",
    "\n",
    "    with open(cb_importances_name, \"w\") as fp:\n",
    "        json.dump(importance, fp=fp)"
   ]
  },
  {
   "cell_type": "code",
   "execution_count": 21,
   "metadata": {},
   "outputs": [],
   "source": [
    "with open(cb_importances_name, \"r\") as fp:\n",
    "    importance = json.load(fp)"
   ]
  },
  {
   "cell_type": "code",
   "execution_count": 22,
   "metadata": {},
   "outputs": [
    {
     "name": "stdout",
     "output_type": "stream",
     "text": [
      "44\n"
     ]
    }
   ],
   "source": [
    "stay_cb_importance_columns = list()\n",
    "drop_cb_importance_columns = list()\n",
    "\n",
    "threshold = 1e-3\n",
    "\n",
    "for i, v in enumerate(importance[\"importances_mean\"]):\n",
    "    if v > threshold:\n",
    "        stay_cb_importance_columns.append(X_val.columns[i])\n",
    "    else:\n",
    "        drop_cb_importance_columns.append(X_val.columns[i])\n",
    "\n",
    "print(len(stay_cb_importance_columns))"
   ]
  },
  {
   "cell_type": "code",
   "execution_count": 23,
   "metadata": {},
   "outputs": [
    {
     "data": {
      "image/png": "[encoded data removed]",
      "text/plain": [
       "<Figure size 500x1100 with 1 Axes>"
      ]
     },
     "metadata": {},
     "output_type": "display_data"
    }
   ],
   "source": [
    "barh_dict = dict()\n",
    "\n",
    "for i, v in enumerate(importance[\"importances_mean\"]):\n",
    "    if v > threshold:\n",
    "        # print(f'Feature: {X_val.columns[i]}, Score: {v:.5f}')\n",
    "        barh_dict[X_val.columns[i]] = v\n",
    "\n",
    "barh_dict = {k: v for k, v in sorted(barh_dict.items(), key=lambda item: item[1])}\n",
    "\n",
    "plt.figure(figsize=(5, 11))\n",
    "plt.barh(barh_dict.keys(), barh_dict.values())\n",
    "plt.yticks(fontsize=7)\n",
    "plt.xlabel('Permutation Importance')\n",
    "plt.show()"
   ]
  },
  {
   "cell_type": "markdown",
   "metadata": {},
   "source": [
    "### CatBoost with PI"
   ]
  },
  {
   "cell_type": "code",
   "execution_count": 24,
   "metadata": {},
   "outputs": [],
   "source": [
    "X_copy = X.copy()\n",
    "y_copy = y.copy()\n",
    "X_copy = X_copy[stay_cb_importance_columns]\n",
    "X_copy[\"Title\"] = X_copy[\"Title\"].apply(title_catboost_processing)\n",
    "X_copy[\"SMILES\"] = X_copy[\"SMILES\"].apply(lambda x: ' '.join(list(x)))\n",
    "\n",
    "X_train, X_val, y_train, y_val = train_test_split(X_copy, y_copy, test_size=0.2, random_state=seed)"
   ]
  },
  {
   "cell_type": "code",
   "execution_count": 25,
   "metadata": {},
   "outputs": [
    {
     "name": "stdout",
     "output_type": "stream",
     "text": [
      "0:\tlearn: 0.0656065\ttest: 0.0679731\tbest: 0.0679731 (0)\ttotal: 5.43ms\tremaining: 8.14s\n",
      "100:\tlearn: 0.4263388\ttest: 0.3160007\tbest: 0.3161251 (99)\ttotal: 613ms\tremaining: 8.49s\n",
      "200:\tlearn: 0.4897471\ttest: 0.3244925\tbest: 0.3250260 (187)\ttotal: 1.21s\tremaining: 7.83s\n",
      "300:\tlearn: 0.5371519\ttest: 0.3244191\tbest: 0.3250260 (187)\ttotal: 1.81s\tremaining: 7.23s\n",
      "400:\tlearn: 0.5735273\ttest: 0.3256627\tbest: 0.3259908 (391)\ttotal: 2.42s\tremaining: 6.63s\n",
      "500:\tlearn: 0.6062778\ttest: 0.3256159\tbest: 0.3260126 (407)\ttotal: 3.03s\tremaining: 6.04s\n",
      "600:\tlearn: 0.6350152\ttest: 0.3263161\tbest: 0.3267334 (593)\ttotal: 3.64s\tremaining: 5.45s\n",
      "700:\tlearn: 0.6622822\ttest: 0.3246734\tbest: 0.3268579 (634)\ttotal: 4.26s\tremaining: 4.85s\n",
      "800:\tlearn: 0.6866214\ttest: 0.3239990\tbest: 0.3268579 (634)\ttotal: 4.88s\tremaining: 4.25s\n",
      "900:\tlearn: 0.7092150\ttest: 0.3222624\tbest: 0.3268579 (634)\ttotal: 5.49s\tremaining: 3.65s\n",
      "1000:\tlearn: 0.7279791\ttest: 0.3205037\tbest: 0.3268579 (634)\ttotal: 6.11s\tremaining: 3.04s\n",
      "1100:\tlearn: 0.7465281\ttest: 0.3194571\tbest: 0.3268579 (634)\ttotal: 6.73s\tremaining: 2.44s\n",
      "1200:\tlearn: 0.7627762\ttest: 0.3178475\tbest: 0.3268579 (634)\ttotal: 7.34s\tremaining: 1.83s\n",
      "Stopped by overfitting detector  (600 iterations wait)\n",
      "\n",
      "bestTest = 0.3268578841\n",
      "bestIteration = 634\n",
      "\n",
      "Shrink model to first 635 iterations.\n",
      "R2: 0.1331607758006419\n"
     ]
    }
   ],
   "source": [
    "cb_model = CatBoostRegressor(\n",
    "    iterations=1500,\n",
    "    text_features=[feature for feature in text_features if feature not in drop_cb_importance_columns],\n",
    "    cat_features=[feature for feature in cat_features if feature not in drop_cb_importance_columns],\n",
    "    eval_metric=\"R2\",\n",
    "    learning_rate=0.2,\n",
    "    verbose=100,\n",
    "    use_best_model=True,\n",
    "    early_stopping_rounds=600,\n",
    ")\n",
    "\n",
    "cb_model.fit(X_train, y_train, eval_set=(X_val, y_val))\n",
    "\n",
    "preds = cb_model.predict(X_val)\n",
    "\n",
    "print(f\"R2: {r2_score(np.expm1(y_val), np.expm1(preds))}\")"
   ]
  },
  {
   "cell_type": "markdown",
   "metadata": {},
   "source": [
    "0.1331607758006419"
   ]
  },
  {
   "cell_type": "markdown",
   "metadata": {},
   "source": [
    "### CatBoost with PI & SVD"
   ]
  },
  {
   "cell_type": "code",
   "execution_count": 26,
   "metadata": {},
   "outputs": [],
   "source": [
    "X_copy = X.copy()\n",
    "y_copy = y.copy()\n",
    "X_copy[\"Title\"] = X_copy[\"Title\"].apply(title_catboost_processing)\n",
    "X_copy[\"SMILES\"] = X_copy[\"SMILES\"].apply(lambda x: ' '.join(list(x)))\n",
    "\n",
    "X_train, X_val, y_train, y_val = train_test_split(X_copy, y_copy, test_size=0.2, random_state=seed)"
   ]
  },
  {
   "cell_type": "code",
   "execution_count": 27,
   "metadata": {},
   "outputs": [],
   "source": [
    "svd_n_components = 16\n",
    "svd = TruncatedSVD(n_components=svd_n_components, algorithm=\"randomized\", random_state=seed)\n",
    "svd.fit(X_train[drop_cb_importance_columns])\n",
    "\n",
    "train_emb = pd.DataFrame(svd.transform(X_train[drop_cb_importance_columns]), columns=[f\"emb_{i}\"for i in range(svd_n_components)], index=X_train.index)\n",
    "X_train = pd.concat([X_train[stay_cb_importance_columns], train_emb], axis=1)\n",
    "\n",
    "val_emb = pd.DataFrame(svd.transform(X_val[drop_cb_importance_columns]), columns=[f\"emb_{i}\"for i in range(svd_n_components)], index=X_val.index)\n",
    "X_val = pd.concat([X_val[stay_cb_importance_columns], val_emb], axis=1)"
   ]
  },
  {
   "cell_type": "code",
   "execution_count": 28,
   "metadata": {},
   "outputs": [
    {
     "name": "stdout",
     "output_type": "stream",
     "text": [
      "0:\tlearn: 0.0392860\ttest: 0.0390780\tbest: 0.0390780 (0)\ttotal: 5.68ms\tremaining: 11.4s\n",
      "100:\tlearn: 0.3887793\ttest: 0.3085388\tbest: 0.3085388 (100)\ttotal: 680ms\tremaining: 12.8s\n",
      "200:\tlearn: 0.4511796\ttest: 0.3233923\tbest: 0.3233923 (200)\ttotal: 1.34s\tremaining: 12s\n",
      "300:\tlearn: 0.4939177\ttest: 0.3275925\tbest: 0.3279311 (272)\ttotal: 2s\tremaining: 11.3s\n",
      "400:\tlearn: 0.5287999\ttest: 0.3306824\tbest: 0.3306824 (400)\ttotal: 2.69s\tremaining: 10.7s\n",
      "500:\tlearn: 0.5580316\ttest: 0.3301905\tbest: 0.3311565 (437)\ttotal: 3.38s\tremaining: 10.1s\n",
      "600:\tlearn: 0.5856102\ttest: 0.3309486\tbest: 0.3313147 (580)\ttotal: 4.06s\tremaining: 9.46s\n",
      "700:\tlearn: 0.6086952\ttest: 0.3315550\tbest: 0.3316859 (693)\ttotal: 4.75s\tremaining: 8.79s\n",
      "800:\tlearn: 0.6309925\ttest: 0.3316327\tbest: 0.3322108 (748)\ttotal: 5.43s\tremaining: 8.13s\n",
      "900:\tlearn: 0.6516834\ttest: 0.3330562\tbest: 0.3335060 (894)\ttotal: 6.11s\tremaining: 7.46s\n",
      "1000:\tlearn: 0.6716826\ttest: 0.3332213\tbest: 0.3336196 (956)\ttotal: 6.8s\tremaining: 6.78s\n",
      "1100:\tlearn: 0.6894593\ttest: 0.3331505\tbest: 0.3336196 (956)\ttotal: 7.49s\tremaining: 6.11s\n",
      "1200:\tlearn: 0.7061619\ttest: 0.3332878\tbest: 0.3336565 (1186)\ttotal: 8.17s\tremaining: 5.43s\n",
      "1300:\tlearn: 0.7203427\ttest: 0.3327684\tbest: 0.3336565 (1186)\ttotal: 8.85s\tremaining: 4.75s\n",
      "1400:\tlearn: 0.7339920\ttest: 0.3324350\tbest: 0.3336565 (1186)\ttotal: 9.53s\tremaining: 4.07s\n",
      "1500:\tlearn: 0.7463716\ttest: 0.3320871\tbest: 0.3336565 (1186)\ttotal: 10.2s\tremaining: 3.4s\n",
      "1600:\tlearn: 0.7595656\ttest: 0.3312599\tbest: 0.3336565 (1186)\ttotal: 10.9s\tremaining: 2.72s\n",
      "1700:\tlearn: 0.7721005\ttest: 0.3303104\tbest: 0.3336565 (1186)\ttotal: 11.6s\tremaining: 2.04s\n",
      "Stopped by overfitting detector  (600 iterations wait)\n",
      "\n",
      "bestTest = 0.3336564997\n",
      "bestIteration = 1186\n",
      "\n",
      "Shrink model to first 1187 iterations.\n",
      "R2: 0.13430790291159544\n"
     ]
    }
   ],
   "source": [
    "cb_model = CatBoostRegressor(\n",
    "    iterations=2000,\n",
    "    text_features=[feature for feature in text_features if feature not in drop_cb_importance_columns],\n",
    "    cat_features=[feature for feature in cat_features if feature not in drop_cb_importance_columns],\n",
    "    eval_metric=\"R2\",\n",
    "    learning_rate=0.12,\n",
    "    verbose=100,\n",
    "    use_best_model=True,\n",
    "    early_stopping_rounds=600,\n",
    ")\n",
    "\n",
    "cb_model.fit(X_train, y_train, eval_set=(X_val, y_val))\n",
    "\n",
    "preds = cb_model.predict(X_val)\n",
    "\n",
    "print(f\"R2: {r2_score(np.expm1(y_val), np.expm1(preds))}\")"
   ]
  },
  {
   "cell_type": "markdown",
   "metadata": {},
   "source": [
    "0.13430790291159544 0.12 16"
   ]
  },
  {
   "cell_type": "markdown",
   "metadata": {},
   "source": [
    "### CatBoost PI without text features"
   ]
  },
  {
   "cell_type": "code",
   "execution_count": 19,
   "metadata": {},
   "outputs": [],
   "source": [
    "X_copy = X.copy()\n",
    "y_copy = y.copy()\n",
    "X_copy = X_copy.drop(columns=text_features)\n",
    "\n",
    "X_train, X_val, y_train, y_val = train_test_split(X_copy, y_copy, test_size=0.2, random_state=seed)"
   ]
  },
  {
   "cell_type": "code",
   "execution_count": 30,
   "metadata": {},
   "outputs": [
    {
     "name": "stdout",
     "output_type": "stream",
     "text": [
      "0:\tlearn: 0.0292284\ttest: 0.0297728\tbest: 0.0297728 (0)\ttotal: 16.7ms\tremaining: 25s\n",
      "100:\tlearn: 0.3829543\ttest: 0.2987035\tbest: 0.2987035 (100)\ttotal: 1.3s\tremaining: 18s\n",
      "200:\tlearn: 0.4553399\ttest: 0.3203914\tbest: 0.3203914 (200)\ttotal: 2.56s\tremaining: 16.5s\n",
      "300:\tlearn: 0.5033791\ttest: 0.3293219\tbest: 0.3293219 (300)\ttotal: 3.84s\tremaining: 15.3s\n",
      "400:\tlearn: 0.5405575\ttest: 0.3347311\tbest: 0.3347311 (400)\ttotal: 5.12s\tremaining: 14s\n",
      "500:\tlearn: 0.5714360\ttest: 0.3378446\tbest: 0.3378855 (499)\ttotal: 6.39s\tremaining: 12.7s\n",
      "600:\tlearn: 0.5981039\ttest: 0.3393139\tbest: 0.3395213 (596)\ttotal: 7.66s\tremaining: 11.5s\n",
      "700:\tlearn: 0.6217746\ttest: 0.3395707\tbest: 0.3399771 (676)\ttotal: 8.93s\tremaining: 10.2s\n",
      "800:\tlearn: 0.6433532\ttest: 0.3408154\tbest: 0.3408566 (799)\ttotal: 10.2s\tremaining: 8.92s\n",
      "900:\tlearn: 0.6629165\ttest: 0.3419612\tbest: 0.3420344 (890)\ttotal: 11.5s\tremaining: 7.64s\n",
      "1000:\tlearn: 0.6800960\ttest: 0.3421752\tbest: 0.3424584 (972)\ttotal: 12.8s\tremaining: 6.37s\n",
      "1100:\tlearn: 0.6962772\ttest: 0.3422481\tbest: 0.3425260 (1014)\ttotal: 14s\tremaining: 5.09s\n",
      "1200:\tlearn: 0.7107027\ttest: 0.3428680\tbest: 0.3428727 (1199)\ttotal: 15.3s\tremaining: 3.81s\n",
      "1300:\tlearn: 0.7249814\ttest: 0.3417325\tbest: 0.3431462 (1213)\ttotal: 16.6s\tremaining: 2.54s\n",
      "1400:\tlearn: 0.7384113\ttest: 0.3408469\tbest: 0.3431462 (1213)\ttotal: 17.9s\tremaining: 1.26s\n",
      "1499:\tlearn: 0.7508094\ttest: 0.3401139\tbest: 0.3431462 (1213)\ttotal: 19.1s\tremaining: 0us\n",
      "\n",
      "bestTest = 0.3431462143\n",
      "bestIteration = 1213\n",
      "\n",
      "Shrink model to first 1214 iterations.\n",
      "R2: 0.12335068680135974\n"
     ]
    }
   ],
   "source": [
    "cb_model = CatBoostRegressor(\n",
    "    iterations=1500,\n",
    "    cat_features=[feature for feature in cat_features if feature not in drop_cb_importance_columns],\n",
    "    eval_metric=\"R2\",\n",
    "    learning_rate=0.11,\n",
    "    verbose=100,\n",
    "    use_best_model=True,\n",
    "    early_stopping_rounds=600,\n",
    ")\n",
    "\n",
    "cb_model.fit(X_train, y_train, eval_set=(X_val, y_val))\n",
    "\n",
    "preds = cb_model.predict(X_val)\n",
    "\n",
    "print(f\"R2: {r2_score(np.expm1(y_val), np.expm1(preds))}\")"
   ]
  },
  {
   "cell_type": "markdown",
   "metadata": {},
   "source": [
    "0.12335068680135974"
   ]
  },
  {
   "cell_type": "code",
   "execution_count": 20,
   "metadata": {},
   "outputs": [],
   "source": [
    "cb_importances_name = \"cb_importances_wo_text.json\"\n",
    "\n",
    "if not os.path.isfile(cb_importances_name):\n",
    "\n",
    "    importance = permutation_importance(cb_model, X_val, y_val, scoring=\"r2\", n_repeats=5, random_state=seed, n_jobs=-1)\n",
    "    for k, v in importance.items():\n",
    "        importance[k] = v.tolist()\n",
    "\n",
    "    with open(cb_importances_name, \"w\") as fp:\n",
    "        json.dump(importance, fp=fp)"
   ]
  },
  {
   "cell_type": "code",
   "execution_count": 21,
   "metadata": {},
   "outputs": [],
   "source": [
    "with open(cb_importances_name, \"r\") as fp:\n",
    "    importance = json.load(fp)"
   ]
  },
  {
   "cell_type": "code",
   "execution_count": 22,
   "metadata": {},
   "outputs": [
    {
     "name": "stdout",
     "output_type": "stream",
     "text": [
      "40\n"
     ]
    }
   ],
   "source": [
    "stay_cb_importance_columns = list()\n",
    "drop_cb_importance_columns = list()\n",
    "\n",
    "threshold = 1e-3\n",
    "\n",
    "for i, v in enumerate(importance[\"importances_mean\"]):\n",
    "    if v > threshold:\n",
    "        stay_cb_importance_columns.append(X_val.columns[i])\n",
    "    else:\n",
    "        drop_cb_importance_columns.append(X_val.columns[i])\n",
    "\n",
    "print(len(stay_cb_importance_columns))"
   ]
  },
  {
   "cell_type": "code",
   "execution_count": 23,
   "metadata": {},
   "outputs": [
    {
     "data": {
      "image/png": "[encoded data removed]",
      "text/plain": [
       "<Figure size 500x1100 with 1 Axes>"
      ]
     },
     "metadata": {},
     "output_type": "display_data"
    }
   ],
   "source": [
    "barh_dict = dict()\n",
    "\n",
    "for i, v in enumerate(importance[\"importances_mean\"]):\n",
    "    if v > threshold:\n",
    "        # print(f'Feature: {X_val.columns[i]}, Score: {v:.5f}')\n",
    "        barh_dict[X_val.columns[i]] = v\n",
    "\n",
    "barh_dict = {k: v for k, v in sorted(barh_dict.items(), key=lambda item: item[1])}\n",
    "\n",
    "plt.figure(figsize=(5, 11))\n",
    "plt.barh(barh_dict.keys(), barh_dict.values())\n",
    "plt.yticks(fontsize=7)\n",
    "plt.xlabel('Permutation Importance')\n",
    "plt.show()"
   ]
  },
  {
   "cell_type": "markdown",
   "metadata": {},
   "source": [
    "### LinearRegression"
   ]
  },
  {
   "cell_type": "code",
   "execution_count": 28,
   "metadata": {},
   "outputs": [],
   "source": [
    "X_copy = X.copy()\n",
    "y_copy = y.copy()\n",
    "\n",
    "X_copy = X_copy.drop(columns=text_features)\n",
    "X_copy[cat_features] = X_copy[cat_features].astype(str)\n",
    "\n",
    "X_train, X_val, y_train, y_val = train_test_split(X_copy, y_copy, test_size=0.2, random_state=seed)\n",
    "\n",
    "cb_encoder = CatBoostEncoder(random_state=seed)\n",
    "X_train[cat_features] = cb_encoder.fit_transform(X_train[cat_features], y_train)\n",
    "X_val[cat_features] = cb_encoder.transform(X_val[cat_features])"
   ]
  },
  {
   "cell_type": "code",
   "execution_count": null,
   "metadata": {},
   "outputs": [
    {
     "name": "stdout",
     "output_type": "stream",
     "text": [
      "R2: -0.00736758865185605\n"
     ]
    }
   ],
   "source": [
    "linreg_model = LinearRegression(n_jobs=-1)\n",
    "linreg_model.fit(X_train, y_train)\n",
    "\n",
    "preds = linreg_model.predict(X_val)\n",
    "\n",
    "print(f\"R2: {r2_score(np.expm1(y_val), np.expm1(preds))}\")"
   ]
  },
  {
   "cell_type": "markdown",
   "metadata": {},
   "source": [
    "### LinearRegression with PI"
   ]
  },
  {
   "cell_type": "code",
   "execution_count": 37,
   "metadata": {},
   "outputs": [],
   "source": [
    "X_train = X_train.drop(columns=drop_cb_importance_columns)\n",
    "X_val = X_val.drop(columns=drop_cb_importance_columns)"
   ]
  },
  {
   "cell_type": "code",
   "execution_count": 38,
   "metadata": {},
   "outputs": [
    {
     "name": "stdout",
     "output_type": "stream",
     "text": [
      "R2: -0.002981317241136594\n"
     ]
    }
   ],
   "source": [
    "linreg_model = LinearRegression(n_jobs=-1)\n",
    "linreg_model.fit(X_train, y_train)\n",
    "\n",
    "preds = linreg_model.predict(X_val)\n",
    "\n",
    "print(f\"R2: {r2_score(np.expm1(y_val), np.expm1(preds))}\")"
   ]
  },
  {
   "cell_type": "markdown",
   "metadata": {},
   "source": [
    "### RandomForest"
   ]
  },
  {
   "cell_type": "code",
   "execution_count": 39,
   "metadata": {},
   "outputs": [],
   "source": [
    "X_train, X_val, y_train, y_val = train_test_split(X_copy, y_copy, test_size=0.2, random_state=seed)\n",
    "X_train[cat_features] = cb_encoder.transform(X_train[cat_features])\n",
    "X_val[cat_features] = cb_encoder.transform(X_val[cat_features])"
   ]
  },
  {
   "cell_type": "code",
   "execution_count": null,
   "metadata": {},
   "outputs": [],
   "source": [
    "rf_model = RandomForestRegressor(n_estimators=96, random_state=seed, n_jobs=-1)\n",
    "\n",
    "rf_model.fit(X_train, y_train)\n",
    "\n",
    "preds = rf_model.predict(X_val)\n",
    "\n",
    "print(f\"R2: {r2_score(np.expm1(y_val), np.expm1(preds))}\")"
   ]
  },
  {
   "cell_type": "markdown",
   "metadata": {},
   "source": [
    "### RandomForest with PI"
   ]
  },
  {
   "cell_type": "code",
   "execution_count": 41,
   "metadata": {},
   "outputs": [],
   "source": [
    "X_train = X_train.drop(columns=drop_cb_importance_columns)\n",
    "X_val = X_val.drop(columns=drop_cb_importance_columns)"
   ]
  },
  {
   "cell_type": "code",
   "execution_count": 42,
   "metadata": {},
   "outputs": [
    {
     "name": "stdout",
     "output_type": "stream",
     "text": [
      "R2: 0.09935978301446813\n"
     ]
    }
   ],
   "source": [
    "rf_model = RandomForestRegressor(n_estimators=96, random_state=seed, n_jobs=-1)\n",
    "\n",
    "rf_model.fit(X_train, y_train)\n",
    "\n",
    "preds = rf_model.predict(X_val)\n",
    "\n",
    "print(f\"R2: {r2_score(np.expm1(y_val), np.expm1(preds))}\")"
   ]
  },
  {
   "cell_type": "markdown",
   "metadata": {},
   "source": [
    "### ExtraTreesRegressor"
   ]
  },
  {
   "cell_type": "code",
   "execution_count": 43,
   "metadata": {},
   "outputs": [],
   "source": [
    "X_train, X_val, y_train, y_val = train_test_split(X_copy, y_copy, test_size=0.2, random_state=seed)\n",
    "X_train[cat_features] = cb_encoder.transform(X_train[cat_features])\n",
    "X_val[cat_features] = cb_encoder.transform(X_val[cat_features])"
   ]
  },
  {
   "cell_type": "code",
   "execution_count": 38,
   "metadata": {},
   "outputs": [
    {
     "name": "stdout",
     "output_type": "stream",
     "text": [
      "R2: 0.09781962070036554\n"
     ]
    }
   ],
   "source": [
    "et_model = ExtraTreesRegressor(n_estimators=48, random_state=seed, n_jobs=-1)\n",
    "\n",
    "et_model.fit(X_train, y_train)\n",
    "\n",
    "preds = et_model.predict(X_val)\n",
    "\n",
    "print(f\"R2: {r2_score(np.expm1(y_val), np.expm1(preds))}\")"
   ]
  },
  {
   "cell_type": "markdown",
   "metadata": {},
   "source": [
    "### ExtraTreesRegressor with PI"
   ]
  },
  {
   "cell_type": "code",
   "execution_count": 44,
   "metadata": {},
   "outputs": [],
   "source": [
    "X_train = X_train.drop(columns=drop_cb_importance_columns)\n",
    "X_val = X_val.drop(columns=drop_cb_importance_columns)"
   ]
  },
  {
   "cell_type": "code",
   "execution_count": 45,
   "metadata": {},
   "outputs": [
    {
     "name": "stdout",
     "output_type": "stream",
     "text": [
      "R2: 0.10315571283193614\n"
     ]
    }
   ],
   "source": [
    "et_model = ExtraTreesRegressor(n_estimators=48, random_state=seed, n_jobs=-1)\n",
    "\n",
    "et_model.fit(X_train, y_train)\n",
    "\n",
    "preds = et_model.predict(X_val)\n",
    "\n",
    "print(f\"R2: {r2_score(np.expm1(y_val), np.expm1(preds))}\")"
   ]
  },
  {
   "cell_type": "markdown",
   "metadata": {},
   "source": [
    "### MLP with PI"
   ]
  },
  {
   "cell_type": "code",
   "execution_count": 29,
   "metadata": {},
   "outputs": [],
   "source": [
    "X_train, X_val, y_train, y_val = train_test_split(X_copy, y_copy, test_size=0.2, random_state=seed)\n",
    "X_train[cat_features] = cb_encoder.transform(X_train[cat_features])\n",
    "X_val[cat_features] = cb_encoder.transform(X_val[cat_features])"
   ]
  },
  {
   "cell_type": "code",
   "execution_count": 30,
   "metadata": {},
   "outputs": [],
   "source": [
    "X_train = X_train.drop(columns=drop_cb_importance_columns)\n",
    "X_val = X_val.drop(columns=drop_cb_importance_columns)"
   ]
  },
  {
   "cell_type": "code",
   "execution_count": 31,
   "metadata": {},
   "outputs": [],
   "source": [
    "train_dataset = torch.utils.data.TensorDataset(torch.from_numpy(X_train.to_numpy()).float(),\n",
    "                                               torch.from_numpy(y_train.to_numpy()).float(),)\n",
    "val_dataset = torch.utils.data.TensorDataset(torch.from_numpy(X_val.to_numpy()).float(),\n",
    "                                             torch.from_numpy(y_val.to_numpy()).float(),)"
   ]
  },
  {
   "cell_type": "code",
   "execution_count": 32,
   "metadata": {},
   "outputs": [],
   "source": [
    "batch_size = 64\n",
    "train_dataloader = DataLoader(train_dataset, batch_size=batch_size, shuffle=True)\n",
    "val_dataloader = DataLoader(val_dataset, batch_size=batch_size, shuffle=False)"
   ]
  },
  {
   "cell_type": "code",
   "execution_count": 33,
   "metadata": {},
   "outputs": [],
   "source": [
    "class mlp(nn.Module):\n",
    "    def __init__(self):\n",
    "        super(mlp, self).__init__()\n",
    "        self.linear = nn.Sequential(\n",
    "            nn.Linear(40, 32),\n",
    "            nn.Sigmoid(),\n",
    "            nn.Linear(32, 16),\n",
    "            nn.Sigmoid(),\n",
    "            nn.Linear(16, 1),\n",
    "        )\n",
    "\n",
    "    def forward(self,x):\n",
    "        x = self.linear(x)\n",
    "\n",
    "        return x"
   ]
  },
  {
   "cell_type": "code",
   "execution_count": 50,
   "metadata": {},
   "outputs": [],
   "source": [
    "model = mlp()\n",
    "\n",
    "lr = 1e-3\n",
    "epochs = 100\n",
    "\n",
    "optimizer = torch.optim.AdamW(model.parameters(), lr=lr)\n",
    "criteon = nn.MSELoss()"
   ]
  },
  {
   "cell_type": "code",
   "execution_count": 51,
   "metadata": {},
   "outputs": [
    {
     "name": "stdout",
     "output_type": "stream",
     "text": [
      "train loss = 0.7037664378082359\n",
      "R2 = -0.006775932504937687\n",
      "train loss = 0.680047021986364\n",
      "R2 = -0.00657358754079862\n",
      "train loss = 0.6812987554859329\n",
      "R2 = -0.0070009275208084976\n",
      "train loss = 0.6812359515782241\n",
      "R2 = -0.007625286574364454\n",
      "train loss = 0.6810497654008342\n",
      "R2 = -0.007400871835200551\n",
      "train loss = 0.6812710102442857\n",
      "R2 = -0.0068647221076980625\n",
      "train loss = 0.6809459662699437\n",
      "R2 = -0.007039125717026362\n",
      "train loss = 0.6814167967864445\n",
      "R2 = -0.006663324110535607\n",
      "train loss = 0.6809374827605027\n",
      "R2 = -0.0067273219624754965\n",
      "train loss = 0.6807371781422542\n",
      "R2 = -0.007681828049407979\n"
     ]
    }
   ],
   "source": [
    "for epoch in range(epochs):\n",
    "    losses = list()\n",
    "    model.train()\n",
    "    for step, (x, y) in enumerate(train_dataloader):\n",
    "        output = model(x)\n",
    "        output = output.view(output.shape[0])\n",
    "        loss = criteon(output, y)\n",
    "        losses.append(loss.item())\n",
    "        optimizer.zero_grad()\n",
    "        loss.backward()\n",
    "        torch.nn.utils.clip_grad_norm_(model.parameters(), 1.0)\n",
    "        optimizer.step()\n",
    "    if epoch % 10 == 0:\n",
    "        print(f\"train loss = {np.mean(losses)}\")\n",
    "\n",
    "    model.eval()\n",
    "    all_labels = list()\n",
    "    all_preds = list()\n",
    "    with torch.inference_mode():\n",
    "        for step, (x, y) in enumerate(val_dataloader):\n",
    "            output = model(x)\n",
    "            output = output.view(output.shape[0])\n",
    "            all_labels.extend(y.tolist())\n",
    "            all_preds.extend(output.tolist())\n",
    "    if epoch % 10 == 0:\n",
    "        print(f\"R2 = {r2_score(np.expm1(all_labels), np.expm1(all_preds))}\")"
   ]
  },
  {
   "cell_type": "markdown",
   "metadata": {},
   "source": [
    "### conv1d"
   ]
  },
  {
   "cell_type": "code",
   "execution_count": 52,
   "metadata": {},
   "outputs": [],
   "source": [
    "class conv_net(nn.Module):\n",
    "    def __init__(self):\n",
    "        super(conv_net, self).__init__()\n",
    "\n",
    "        self.conv = nn.Sequential(\n",
    "            nn.Conv1d(1, 4, kernel_size=3, stride=1, padding=1),\n",
    "            nn.MaxPool1d(2),\n",
    "            nn.Sigmoid(),\n",
    "            nn.Conv1d(4, 8, kernel_size=3, stride=1, padding=1),\n",
    "            nn.MaxPool1d(2),\n",
    "            nn.Sigmoid(),\n",
    "        )\n",
    "\n",
    "        self.linear = nn.Sequential(\n",
    "            nn.Linear(80, 32),\n",
    "            nn.Sigmoid(),\n",
    "            nn.Linear(32, 1),\n",
    "\n",
    "        )\n",
    "\n",
    "\n",
    "    def forward(self,x):\n",
    "        x = x.unsqueeze(1)\n",
    "        x = self.conv(x)\n",
    "        x = x.view(x.size(0), -1)\n",
    "        x = self.linear(x)\n",
    "\n",
    "        return x"
   ]
  },
  {
   "cell_type": "code",
   "execution_count": 57,
   "metadata": {},
   "outputs": [],
   "source": [
    "model = conv_net()\n",
    "\n",
    "lr = 1e-2\n",
    "epochs = 200\n",
    "\n",
    "optimizer = torch.optim.AdamW(model.parameters(), lr=lr)\n",
    "criteon = nn.MSELoss()"
   ]
  },
  {
   "cell_type": "code",
   "execution_count": 58,
   "metadata": {},
   "outputs": [
    {
     "name": "stdout",
     "output_type": "stream",
     "text": [
      "train loss = 0.6971908120663611\n",
      "R2 = -0.006614391563005917\n",
      "train loss = 0.6165519079664251\n",
      "R2 = -0.004316600474695953\n",
      "train loss = 0.6065938341093587\n",
      "R2 = -0.0002539484803960601\n",
      "train loss = 0.598645224414029\n",
      "R2 = 0.003923685954364653\n",
      "train loss = 0.5892068239686253\n",
      "R2 = 0.007179426619024154\n",
      "train loss = 0.5790839451027441\n",
      "R2 = -0.0006563483013504179\n",
      "train loss = 0.5764271922818907\n",
      "R2 = -0.00016568152872165065\n",
      "train loss = 0.5760752165383035\n",
      "R2 = 0.019115661446775456\n",
      "train loss = 0.574863604071376\n",
      "R2 = 0.007193829288894782\n",
      "train loss = 0.5701667702132529\n",
      "R2 = 0.02746236035441796\n",
      "train loss = 0.5639666389305513\n",
      "R2 = 0.0016533320955555153\n",
      "train loss = 0.5605625694269663\n",
      "R2 = 0.03967202768252942\n",
      "train loss = 0.5591157216619659\n",
      "R2 = 0.01382720168257534\n",
      "train loss = 0.5517596399718588\n",
      "R2 = 0.022378655142951565\n",
      "train loss = 0.5482303175297413\n",
      "R2 = 0.020035755182081783\n",
      "train loss = 0.5486824612041096\n",
      "R2 = 0.02316349383621774\n",
      "train loss = 0.547277940433104\n",
      "R2 = 0.0270598071041237\n",
      "train loss = 0.5446873515516847\n",
      "R2 = 0.016532530378255528\n",
      "train loss = 0.5440291309749687\n",
      "R2 = 0.03867009363754981\n",
      "train loss = 0.5436438232005297\n",
      "R2 = 0.0442770953049435\n"
     ]
    }
   ],
   "source": [
    "for epoch in range(epochs):\n",
    "    losses = list()\n",
    "    model.train()\n",
    "    for step, (x, y) in enumerate(train_dataloader):\n",
    "        output = model(x)\n",
    "        output = output.view(output.shape[0])\n",
    "        loss = criteon(output, y)\n",
    "        losses.append(loss.item())\n",
    "        optimizer.zero_grad()\n",
    "        loss.backward()\n",
    "        torch.nn.utils.clip_grad_norm_(model.parameters(), 1.0)\n",
    "        optimizer.step()\n",
    "    if epoch % 10 == 0:\n",
    "        print(f\"train loss = {np.mean(losses)}\")\n",
    "\n",
    "    model.eval()\n",
    "    all_labels = list()\n",
    "    all_preds = list()\n",
    "    with torch.inference_mode():\n",
    "        for step, (x, y) in enumerate(val_dataloader):\n",
    "            output = model(x)\n",
    "            output = output.view(output.shape[0])\n",
    "            all_labels.extend(y.tolist())\n",
    "            all_preds.extend(output.tolist())\n",
    "    if epoch % 10 == 0:\n",
    "        print(f\"R2 = {r2_score(np.expm1(all_labels), np.expm1(all_preds))}\")"
   ]
  },
  {
   "cell_type": "markdown",
   "metadata": {},
   "source": [
    "0.0442770953049435"
   ]
  },
  {
   "cell_type": "code",
   "execution_count": null,
   "metadata": {},
   "outputs": [],
   "source": []
  }
 ],
 "metadata": {
  "kernelspec": {
   "display_name": ".venv",
   "language": "python",
   "name": "python3"
  },
  "language_info": {
   "codemirror_mode": {
    "name": "ipython",
    "version": 3
   },
   "file_extension": ".py",
   "mimetype": "text/x-python",
   "name": "python",
   "nbconvert_exporter": "python",
   "pygments_lexer": "ipython3",
   "version": "3.11.4"
  }
 },
 "nbformat": 4,
 "nbformat_minor": 2
}
